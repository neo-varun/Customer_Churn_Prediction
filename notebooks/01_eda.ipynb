{
 "cells": [
  {
   "cell_type": "markdown",
   "id": "32ff2417",
   "metadata": {},
   "source": [
    "# Exploratory Data Analysis (EDA) for Customer Churn Dataset\n",
    "This notebook provides a comprehensive exploratory data analysis of the customer churn dataset. We will examine the data structure, missing values, distributions, relationships, and key insights that can inform modeling."
   ]
  },
  {
   "cell_type": "code",
   "execution_count": null,
   "id": "bef4efd9",
   "metadata": {},
   "outputs": [],
   "source": [
    "# Import required libraries\n",
    "import pandas as pd\n",
    "import numpy as np\n",
    "import matplotlib.pyplot as plt\n",
    "import seaborn as sns\n",
    "%matplotlib inline"
   ]
  },
  {
   "cell_type": "markdown",
   "id": "0373679f",
   "metadata": {},
   "source": [
    "## 1. Load the Data\n",
    "We will load the raw dataset and display its basic structure."
   ]
  },
  {
   "cell_type": "code",
   "execution_count": null,
   "id": "f1e63dc3",
   "metadata": {},
   "outputs": [],
   "source": [
    "# Load the raw data\n",
    "df = pd.read_csv('../data/raw/raw.csv')\n",
    "df.head()"
   ]
  },
  {
   "cell_type": "markdown",
   "id": "ab75132b",
   "metadata": {},
   "source": [
    "## 2. Data Overview\n",
    "Let's check the shape, columns, and data types."
   ]
  },
  {
   "cell_type": "code",
   "execution_count": null,
   "id": "d881e31f",
   "metadata": {},
   "outputs": [],
   "source": [
    "# Data shape and info\n",
    "print(f\"Rows: {df.shape[0]}, Columns: {df.shape[1]}\")\n",
    "df.info()"
   ]
  },
  {
   "cell_type": "markdown",
   "id": "0f95a748",
   "metadata": {},
   "source": [
    "## 3. Missing Values Analysis\n",
    "Identify missing values in the dataset."
   ]
  },
  {
   "cell_type": "code",
   "execution_count": null,
   "id": "cb9cdae5",
   "metadata": {},
   "outputs": [],
   "source": [
    "# Missing values count\n",
    "missing = df.isnull().sum()\n",
    "missing[missing > 0]"
   ]
  },
  {
   "cell_type": "markdown",
   "id": "7fd6c782",
   "metadata": {},
   "source": [
    "## 4. Target Variable Distribution\n",
    "Examine the distribution of the target variable `Churn`."
   ]
  },
  {
   "cell_type": "code",
   "execution_count": null,
   "id": "98b0bf7e",
   "metadata": {},
   "outputs": [],
   "source": [
    "# Target variable distribution\n",
    "sns.countplot(x='Churn', data=df)\n",
    "plt.title('Churn Distribution')\n",
    "plt.show()\n",
    "df['Churn'].value_counts(normalize=True)"
   ]
  },
  {
   "cell_type": "markdown",
   "id": "2b0f8692",
   "metadata": {},
   "source": [
    "## 5. Numerical Feature Distributions\n",
    "Visualize the distributions of key numerical features."
   ]
  },
  {
   "cell_type": "code",
   "execution_count": null,
   "id": "232e9d23",
   "metadata": {},
   "outputs": [],
   "source": [
    "# Numerical features\n",
    "num_cols = ['tenure', 'MonthlyCharges', 'TotalCharges']\n",
    "df[num_cols] = df[num_cols].apply(pd.to_numeric, errors='coerce')\n",
    "df[num_cols].hist(bins=20, figsize=(12, 4))\n",
    "plt.suptitle('Numerical Feature Distributions')\n",
    "plt.show()"
   ]
  },
  {
   "cell_type": "markdown",
   "id": "d9192052",
   "metadata": {},
   "source": [
    "## 6. Categorical Feature Distributions\n",
    "Show the distribution of selected categorical features."
   ]
  },
  {
   "cell_type": "code",
   "execution_count": null,
   "id": "5c16df75",
   "metadata": {},
   "outputs": [],
   "source": [
    "# Categorical features\n",
    "cat_cols = ['gender', 'SeniorCitizen', 'Partner', 'Dependents', 'PhoneService', 'InternetService', 'Contract', 'PaymentMethod']\n",
    "fig, axes = plt.subplots(2, 4, figsize=(18, 8))\n",
    "for i, col in enumerate(cat_cols):\n",
    "    sns.countplot(x=col, data=df, ax=axes[i//4, i%4])\n",
    "    axes[i//4, i%4].set_title(col)\n",
    "plt.tight_layout()\n",
    "plt.show()"
   ]
  },
  {
   "cell_type": "markdown",
   "id": "d90cb538",
   "metadata": {},
   "source": [
    "## 7. Churn Rate by Categorical Features\n",
    "Analyze how churn varies across key categorical features."
   ]
  },
  {
   "cell_type": "code",
   "execution_count": null,
   "id": "d4b7dc50",
   "metadata": {},
   "outputs": [],
   "source": [
    "# Churn rate by categorical features\n",
    "for col in cat_cols:\n",
    "    churn_rate = df.groupby(col)['Churn'].value_counts(normalize=True).unstack().get('Yes', pd.Series())\n",
    "    churn_rate.plot(kind='bar', title=f'Churn Rate by {col}')\n",
    "    plt.ylabel('Churn Rate')\n",
    "    plt.show()"
   ]
  },
  {
   "cell_type": "markdown",
   "id": "58793ba4",
   "metadata": {},
   "source": [
    "## 8. Correlation Analysis\n",
    "Check correlations between numerical features and churn."
   ]
  },
  {
   "cell_type": "code",
   "execution_count": null,
   "id": "5dbf2ad3",
   "metadata": {},
   "outputs": [],
   "source": [
    "# Encode target for correlation\n",
    "corr_df = df.copy()\n",
    "corr_df['Churn'] = corr_df['Churn'].map({'Yes': 1, 'No': 0})\n",
    "sns.heatmap(corr_df[num_cols + ['Churn']].corr(), annot=True, cmap='coolwarm')\n",
    "plt.title('Correlation Matrix')\n",
    "plt.show()"
   ]
  },
  {
   "cell_type": "markdown",
   "id": "8a1013ad",
   "metadata": {},
   "source": [
    "## 9. Insights and Observations\n",
    "- The dataset is moderately imbalanced with more non-churned customers.\n",
    "- Senior citizens, customers with month-to-month contracts, and those with higher monthly charges have higher churn rates.\n",
    "- Tenure is negatively correlated with churn: newer customers are more likely to churn.\n",
    "- Some features have missing values (notably `TotalCharges`), which should be imputed.\n",
    "- Categorical features like contract type and payment method show strong relationships with churn.\n",
    "\n",
    "These insights will guide feature engineering and model selection."
   ]
  }
 ],
 "metadata": {
  "kernelspec": {
   "display_name": "Python 3",
   "language": "python",
   "name": "python3"
  },
  "language_info": {
   "codemirror_mode": {
    "name": "ipython",
    "version": 3
   },
   "file_extension": ".py",
   "mimetype": "text/x-python",
   "name": "python",
   "nbconvert_exporter": "python",
   "pygments_lexer": "ipython3",
   "version": "3.12.9"
  }
 },
 "nbformat": 4,
 "nbformat_minor": 5
}
